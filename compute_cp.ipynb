{
 "cells": [
  {
   "cell_type": "code",
   "execution_count": 2,
   "id": "7df7436b-1c4a-4f86-b57e-1fc3f098a0dd",
   "metadata": {},
   "outputs": [],
   "source": [
    "import scipy.io as sio\n",
    "import numpy as np\n",
    "import os\n",
    "from scipy.io import savemat, loadmat\n",
    "import scipy.stats as stats"
   ]
  },
  {
   "cell_type": "code",
   "execution_count": 42,
   "id": "4a291bb0-9228-4738-ad04-0475a9505163",
   "metadata": {},
   "outputs": [],
   "source": [
    "# this is for testing the function\n",
    "subj_num='sub-0005'\n",
    "SC = loadmat(data_dir + str(subj_num)+ '_sc_HCPMMP.mat')\n",
    "sc = SC['mat']\n",
    "FC = loadmat(data_dir + str(subj_num)+ '_fc_HCPMMP.mat')\n",
    "fc = FC['Z']\n",
    "fc[np.isnan(fc)] = 0"
   ]
  },
  {
   "cell_type": "code",
   "execution_count": 3,
   "id": "f6acd02c-7742-46a1-95af-ac569098bc91",
   "metadata": {},
   "outputs": [],
   "source": [
    "# define the data directory\n",
    "cwd = os.getcwd()\n",
    "data_dir = cwd + '/data/'"
   ]
  },
  {
   "cell_type": "code",
   "execution_count": 4,
   "id": "1cf3b5f0-2ae5-4a27-9d25-c3a6f5ea4668",
   "metadata": {},
   "outputs": [],
   "source": [
    "# read in the list of participants\n",
    "with open('sublist_QC.txt') as f:\n",
    "    id_1 = f.readlines()"
   ]
  },
  {
   "cell_type": "code",
   "execution_count": 5,
   "id": "baab6e61-327a-40f5-9863-f4e74c0974c5",
   "metadata": {},
   "outputs": [
    {
     "data": {
      "text/plain": [
       "'sub-0005'"
      ]
     },
     "execution_count": 5,
     "metadata": {},
     "output_type": "execute_result"
    }
   ],
   "source": [
    "id=[]\n",
    "for elem in id_1:\n",
    "    id.extend(elem.strip().split('\\\\n'))\n",
    "id[0]"
   ]
  },
  {
   "cell_type": "code",
   "execution_count": 7,
   "id": "816ff725-77b5-4085-bfee-cc1197dbee16",
   "metadata": {},
   "outputs": [],
   "source": [
    "#append all mat files into one\n",
    "subj_num=154\n",
    "region_num=374\n",
    "sc=np.empty((154, 374, 374)) # cell array to store all vectors\n",
    "fc=np.empty((154, 374, 374))\n",
    "\n",
    "for i in range(subj_num):\n",
    "    var = loadmat(data_dir + str(id[i])+ '_sc_HCPMMP.mat');\n",
    "    SC=var['mat']\n",
    "    sc[i,:,:]=SC\n",
    "\n",
    "for i in range(subj_num):\n",
    "    var = loadmat(data_dir + str(id[i])+ '_fc_HCPMMP.mat');\n",
    "    FC=var['Z']\n",
    "    fc[i,:,:]=FC"
   ]
  },
  {
   "cell_type": "code",
   "execution_count": 8,
   "id": "fe0a9167-c064-4b4b-ac5d-f66dde042131",
   "metadata": {},
   "outputs": [],
   "source": [
    "regionalcp = np.zeros([subj_num, region_num])\n",
    "\n",
    "for k in range(subj_num):\n",
    "\tfor i in range(region_num):\n",
    "\n",
    "\t\tdel_sc = np.delete(sc[k][i], i)\n",
    "\t\tdel_fc = np.delete(fc[k][i], i)\n",
    "\n",
    "\t\tif (np.count_nonzero(del_fc) == 0) | (np.count_nonzero(del_sc) == 0):\n",
    "\t\t\tregionalcp[k][i] = 0\n",
    "\t\telse:\n",
    "\t\t\tregionalcp[k][i], p = stats.pearsonr(del_sc, del_fc)"
   ]
  },
  {
   "cell_type": "code",
   "execution_count": 9,
   "id": "d6684c1f-ef2e-44e5-8f54-75161f4ccc9f",
   "metadata": {},
   "outputs": [
    {
     "data": {
      "text/plain": [
       "(154, 374)"
      ]
     },
     "execution_count": 9,
     "metadata": {},
     "output_type": "execute_result"
    }
   ],
   "source": [
    "regionalcp.shape"
   ]
  },
  {
   "cell_type": "code",
   "execution_count": 12,
   "id": "cbd2f3ee-ddb5-4ae5-ab16-6c4ee6554d34",
   "metadata": {},
   "outputs": [],
   "source": [
    "#mdic = {'scfc_coupling': regionalcp}\n",
    "#savemat(data_dir + 'regionalcp_'  + str(subj_num) + '.mat', mdic)\n",
    "#np.savetxt(\"regionalcp_154.csv\", regionalcp, delimiter=\",\")\n",
    "mean_regionalcp = np.mean(regionalcp, axis=1)\n",
    "\n",
    "np.savetxt(data_dir + 'mean_regionalcp_' + str(subj_num) + '.txt', mean_regionalcp, delimiter=',')"
   ]
  },
  {
   "cell_type": "code",
   "execution_count": 11,
   "id": "7eb988e8-7575-49d6-bf91-747875b9abe8",
   "metadata": {},
   "outputs": [
    {
     "data": {
      "text/plain": [
       "(154,)"
      ]
     },
     "execution_count": 11,
     "metadata": {},
     "output_type": "execute_result"
    }
   ],
   "source": [
    "mean_regionalcp.shape"
   ]
  },
  {
   "cell_type": "code",
   "execution_count": null,
   "id": "fc5d8442-c752-454f-8a53-9ad481febf46",
   "metadata": {},
   "outputs": [],
   "source": []
  },
  {
   "cell_type": "code",
   "execution_count": null,
   "id": "dde16832-021d-4afc-b658-9867232767ce",
   "metadata": {},
   "outputs": [],
   "source": []
  }
 ],
 "metadata": {
  "kernelspec": {
   "display_name": "Python 3",
   "language": "python",
   "name": "python3"
  },
  "language_info": {
   "codemirror_mode": {
    "name": "ipython",
    "version": 3
   },
   "file_extension": ".py",
   "mimetype": "text/x-python",
   "name": "python",
   "nbconvert_exporter": "python",
   "pygments_lexer": "ipython3",
   "version": "3.8.8"
  }
 },
 "nbformat": 4,
 "nbformat_minor": 5
}
